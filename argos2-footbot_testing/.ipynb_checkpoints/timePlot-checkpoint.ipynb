{
 "cells": [
  {
   "cell_type": "code",
   "execution_count": 15,
   "metadata": {
    "collapsed": false
   },
   "outputs": [
    {
     "name": "stdout",
     "output_type": "stream",
     "text": [
      "[7, 8, 31, 8, 18, 8, 37, 8, 32, 8, 12, 18, 8, 8, 17, 8, 12, 8, 9, 8, 8, 8, 20, 8, 8, 8, 21, 8, 45, 8, 40, 8, 19, 8, 17, 8, 24, 8, 39, 8, 28, 8, 18, 8, 8, 21, 8, 20, 8, 15, 11, 8, 19, 8, 32, 8, 31, 8, 26, 15, 14, 8, 12, 8, 28, 8, 8]\n"
     ]
    }
   ],
   "source": [
    "#!/usr/bin/env python\n",
    "\n",
    "import matplotlib.pyplot as plt\n",
    "import numpy as np\n",
    "import csv\n",
    "import matplotlib.mlab as mlab\n",
    "\n",
    "fname3 = \"/home/kavya/RoboNetSim/argos2-RoboNetSim/argos2-footbot_testing/Data/1-1-1 case/Run1/timestep3.csv\"\n",
    "\n",
    "\n",
    "#fname_goal1 = \"/home/kavya/RoboNetSim/argos2-RoboNetSim/argos2-footbot_testing/goal2.csv\"\n",
    "\n",
    "\n",
    "\n",
    "def getColumn(filename, column):\n",
    "    results = csv.reader(open(filename), delimiter=\",\")\n",
    "    return [result[column] for result in results]\n",
    "\n",
    "\n",
    "\n",
    "timeStep3 = getColumn(fname3,0)\n",
    "\n",
    "timeStep3 = np.asarray(timeStep3, dtype=int)\n",
    "\n",
    "temp = []\n",
    "tempIndex = []\n",
    "#temp = np.asarray(temp)\n",
    "sum_val = 0\n",
    "tempsum = 0\n",
    "\n",
    "for idx, val in enumerate(timeStep3):\n",
    "    \n",
    "    if(idx > 0):\n",
    "        temp.insert(idx,timeStep3[idx]-timeStep3[idx-1])\n",
    "        sum_val = sum_val + (timeStep3[idx]-timeStep3[idx-1])\n",
    "    else:\n",
    "        temp.insert(idx,timeStep3[idx])\n",
    "        sum_val = timeStep3[idx]\n",
    "\n",
    "temp = [x / 10 for x in temp] # converting to seconds \n",
    "\n",
    "print temp  \n",
    "\n",
    "\n",
    "#plt.figure(1)\n",
    "#result = plt.hist(temp)\n",
    "#plt.xlim((min(temp), max(temp)))\n",
    "\n",
    "mu = np.mean(temp)\n",
    "variance = np.var(temp)\n",
    "sigma = np.sqrt(variance)\n",
    "\n",
    "#n, bins, patches = plt.hist(temp, 50, normed=1, facecolor='green', alpha=0.75)\n",
    "#y = mlab.normpdf( bins, mu, sigma)\n",
    "#l = plt.plot(bins, y, 'r--', linewidth=1)\n",
    "#x = np.linspace(min(temp), max(temp), 100)\n",
    "#dx = result[1][1] - result[1][0]\n",
    "#scale = len(temp)*dx\n",
    "#print \"scale\", scale\n",
    "#plt.plot(x, mlab.normpdf(x, mean, sigma)*scale)\n",
    "\n",
    "\n",
    "\n",
    "\n",
    "\n",
    "#markerline, stemlines, baseline = plt.stem(timeStep3, temp, '-.')\n",
    "#plt.legend([\"Interval between data gathering\"])\n",
    "plt.title(\"Interval between each data transmission from agent to relay\")\n",
    "#plt.setp(baseline, 'color', 'r', 'linewidth', 2)\n",
    "\n",
    "#plt.show()\n",
    "#plt.scatter(timeStep3,temp)\n",
    "plt.xlabel(\"Time(seconds)\")\n",
    "plt.ylabel(\"Frequency\")\n",
    "#plt.ylabel(\"Time Interval between each meeting of agent and relay\")\n",
    "plt.xlim([0, max(temp)])\n",
    "plt.grid(True)\n",
    "\n",
    "\n",
    "\n",
    "plt.hist(temp, bins='auto',facecolor='green', alpha=0.75)  # plt.hist passes it's arguments to np.histogram\n",
    "\n",
    "\n",
    "plt.show()\n"
   ]
  }
 ],
 "metadata": {
  "kernelspec": {
   "display_name": "Python 2",
   "language": "python",
   "name": "python2"
  },
  "language_info": {
   "codemirror_mode": {
    "name": "ipython",
    "version": 2
   },
   "file_extension": ".py",
   "mimetype": "text/x-python",
   "name": "python",
   "nbconvert_exporter": "python",
   "pygments_lexer": "ipython2",
   "version": "2.7.6"
  }
 },
 "nbformat": 4,
 "nbformat_minor": 0
}
