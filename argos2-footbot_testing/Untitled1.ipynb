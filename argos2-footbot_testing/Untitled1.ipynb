{
 "cells": [
  {
   "cell_type": "code",
   "execution_count": 31,
   "metadata": {
    "collapsed": false
   },
   "outputs": [],
   "source": [
    "#!/usr/bin/env python\n",
    "\n",
    "import matplotlib.pyplot as plt\n",
    "import numpy as np\n",
    "import csv\n",
    "import matplotlib.patches as mpatches\n",
    "\n",
    "import matplotlib.cbook as cbook\n",
    "\n",
    "\n",
    "fname2 = \"/home/kavya/RoboNetSim/argos2-RoboNetSim/argos2-footbot_testing/position2.csv\"\n",
    "fname3 = \"/home/kavya/RoboNetSim/argos2-RoboNetSim/argos2-footbot_testing/position3.csv\"\n",
    "\n",
    "fnameMeeting = \"/home/kavya/RoboNetSim/argos2-RoboNetSim/argos2-footbot_testing/timestep3.csv\"\n",
    "#fname_goal1 = \"/home/kavya/RoboNetSim/argos2-RoboNetSim/argos2-footbot_testing/goal2.csv\"\n",
    "\n",
    "\n",
    "\n",
    "def getColumn(filename, column):\n",
    "    results = csv.reader(open(filename), delimiter=\",\")\n",
    "    return [result[column] for result in results]\n",
    "\n",
    "\n",
    "x_0 = getColumn(fname2,0)\n",
    "y_0 = getColumn(fname2,1)\n",
    "\n",
    "\n",
    "x_1 = getColumn(fname3,0)\n",
    "y_1 = getColumn(fname3,1)\n",
    "\n",
    "m_x = getColumn(fnameMeeting,1)\n",
    "m_y = getColumn(fnameMeeting,2)\n",
    "\n",
    "\n",
    "#ax = plt.gca()\n",
    "\n",
    "plt.plot(x_0,y_0,'b--',label=\"relay1\")\n",
    "#c = mpatches.Circle((x_0[0], y_0[0]), 0.2, facecolor = 'none', edgecolor=\"red\", linewidth=1)\n",
    "\n",
    "plt.plot(x_1,y_1,'g--',label=\"agent1\")\n",
    "\n",
    "plt.scatter(m_x,m_y,c='k')\n",
    "#ax.plot(xg_2,yg_2,'o',label=\"goal agent1\")\n",
    "\n",
    "\n",
    "#ax.add_artist(c)\n",
    "\n",
    "plt.xlim(-5.0,5.0)\n",
    "plt.ylim(-5.0,5.0)\n",
    "\n",
    "plt.show()"
   ]
  },
  {
   "cell_type": "code",
   "execution_count": null,
   "metadata": {
    "collapsed": true
   },
   "outputs": [],
   "source": []
  }
 ],
 "metadata": {
  "kernelspec": {
   "display_name": "Python 2",
   "language": "python",
   "name": "python2"
  },
  "language_info": {
   "codemirror_mode": {
    "name": "ipython",
    "version": 2
   },
   "file_extension": ".py",
   "mimetype": "text/x-python",
   "name": "python",
   "nbconvert_exporter": "python",
   "pygments_lexer": "ipython2",
   "version": "2.7.6"
  }
 },
 "nbformat": 4,
 "nbformat_minor": 0
}
