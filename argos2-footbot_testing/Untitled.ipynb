{
 "cells": [
  {
   "cell_type": "code",
   "execution_count": 10,
   "metadata": {
    "collapsed": false
   },
   "outputs": [
    {
     "name": "stdout",
     "output_type": "stream",
     "text": [
      "[[2 3 4 5]\n",
      " [4 5 6 7]] (2, 4)\n",
      "index,lay 0 2\n",
      "black\n",
      "index,lay 1 5\n",
      "red\n"
     ]
    }
   ],
   "source": [
    "import numpy as np\n",
    "import matplotlib.pyplot as plt\n",
    "import matplotlib.animation as animation\n",
    "\n",
    "npdata = numpy.random.randint(100, size=(5,6,10))\n",
    "plotlays, plotcols = [2,5], [\"black\",\"red\"]\n",
    "\n",
    "fig = plt.figure()\n",
    "ax = plt.axes(xlim=(0, numpy.shape(npdata)[0]), ylim=(0, numpy.max(npdata)))\n",
    "timetext = ax.text(0.5,50,'')\n",
    "\n",
    "a = [2,3,4,5]\n",
    "b = [4,5,6,7]\n",
    "c = np.vstack((a,b))\n",
    "print c,numpy.shape(c)\n",
    "\n",
    "lines = []\n",
    "for index,lay in enumerate(plotlays):\n",
    "    print \"index,lay\",index,lay\n",
    "    print plotcols[index]\n",
    "    lobj = ax.plot([],[],lw=2,color=plotcols[index])[0]\n",
    "    lines.append(lobj)\n",
    "\n",
    "def init():\n",
    "    for line in lines:\n",
    "        line.set_data([],[])\n",
    "    return lines\n",
    "\n",
    "def animate(i):\n",
    "    \n",
    "    x = numpy.array(range(1,npdata.shape[0]+1))\n",
    "    for lnum,line in enumerate(lines):\n",
    "        line.set_data(x,npdata[:,plotlays[lnum]-1,i])\n",
    "    return lines\n",
    "\n",
    "anim = animation.FuncAnimation(fig, animate, init_func=init,\n",
    "                               frames=numpy.shape(npdata)[1], interval=2000, blit=True)\n",
    "\n",
    "plt.show()\n"
   ]
  }
 ],
 "metadata": {
  "kernelspec": {
   "display_name": "Python 2",
   "language": "python",
   "name": "python2"
  },
  "language_info": {
   "codemirror_mode": {
    "name": "ipython",
    "version": 2
   },
   "file_extension": ".py",
   "mimetype": "text/x-python",
   "name": "python",
   "nbconvert_exporter": "python",
   "pygments_lexer": "ipython2",
   "version": "2.7.6"
  }
 },
 "nbformat": 4,
 "nbformat_minor": 0
}
