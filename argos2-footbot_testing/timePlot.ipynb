{
 "cells": [
  {
   "cell_type": "code",
   "execution_count": 17,
   "metadata": {
    "collapsed": false
   },
   "outputs": [
    {
     "name": "stdout",
     "output_type": "stream",
     "text": [
      "[60, 8, 72, 8, 88, 8, 357, 8, 62, 8]\n"
     ]
    }
   ],
   "source": [
    "#!/usr/bin/env python\n",
    "\n",
    "import matplotlib.pyplot as plt\n",
    "import numpy as np\n",
    "import csv\n",
    "import matplotlib.mlab as mlab\n",
    "\n",
    "fname3 = \"/home/kavya/RoboNetSim/argos2-RoboNetSim/argos2-footbot_testing/Data/1-1-1 case/Run1/timestep3.csv\"\n",
    "\n",
    "\n",
    "#fname_goal1 = \"/home/kavya/RoboNetSim/argos2-RoboNetSim/argos2-footbot_testing/goal2.csv\"\n",
    "\n",
    "\n",
    "\n",
    "def getColumn(filename, column):\n",
    "    results = csv.reader(open(filename), delimiter=\",\")\n",
    "    return [result[column] for result in results]\n",
    "\n",
    "\n",
    "\n",
    "timeStep3 = getColumn(fname3,0)\n",
    "\n",
    "timeStep3 = np.asarray(timeStep3, dtype=int)\n",
    "\n",
    "temp = []\n",
    "tempIndex = []\n",
    "#temp = np.asarray(temp)\n",
    "sum_val = 0\n",
    "tempsum = 0\n",
    "\n",
    "for idx, val in enumerate(timeStep3):\n",
    "    \n",
    "    if(idx > 0):\n",
    "        temp.insert(idx,timeStep3[idx]-timeStep3[idx-1])\n",
    "        sum_val = sum_val + (timeStep3[idx]-timeStep3[idx-1])\n",
    "    else:\n",
    "        temp.insert(idx,timeStep3[idx])\n",
    "        sum_val = timeStep3[idx]\n",
    "\n",
    "temp = np.asarray(temp, ) \n",
    "-\n",
    "\n",
    "plt.show()\n"
   ]
  }
 ],
 "metadata": {
  "kernelspec": {
   "display_name": "Python 2",
   "language": "python",
   "name": "python2"
  },
  "language_info": {
   "codemirror_mode": {
    "name": "ipython",
    "version": 2
   },
   "file_extension": ".py",
   "mimetype": "text/x-python",
   "name": "python",
   "nbconvert_exporter": "python",
   "pygments_lexer": "ipython2",
   "version": "2.7.6"
  }
 },
 "nbformat": 4,
 "nbformat_minor": 0
}
